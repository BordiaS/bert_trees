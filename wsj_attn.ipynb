{
 "cells": [
  {
   "cell_type": "code",
   "execution_count": 1,
   "metadata": {},
   "outputs": [
    {
     "name": "stdout",
     "output_type": "stream",
     "text": [
      "Better speed can be achieved with apex installed from https://www.github.com/nvidia/apex.\n"
     ]
    }
   ],
   "source": [
    "from bertviz import attention, visualization\n",
    "from bertviz.pytorch_pretrained_bert import BertModel, BertTokenizer\n",
    "import numpy as np\n",
    "import h5py\n",
    "import json \n",
    "\n",
    "bert_version = 'bert-large-uncased'\n",
    "model = BertModel.from_pretrained(bert_version)\n",
    "tokenizer = BertTokenizer.from_pretrained(bert_version)\n"
   ]
  },
  {
   "cell_type": "code",
   "execution_count": 2,
   "metadata": {},
   "outputs": [],
   "source": [
    "filename = '/misc/vlgscratch4/BowmanGroup/datasets/ptb_trees/ptb3-wsj-test.json'\n",
    "with open(filename, 'r') as f_wsj:\n",
    "    data = json.load(f_wsj)"
   ]
  },
  {
   "cell_type": "code",
   "execution_count": 7,
   "metadata": {},
   "outputs": [
    {
     "data": {
      "text/plain": [
       "{'sentence': \"No , it was n't Black Monday .\",\n",
       " 'dependencies': [[[1, 7], 'discourse'],\n",
       "  [[2, 7], 'punct'],\n",
       "  [[3, 7], 'nsubj'],\n",
       "  [[4, 7], 'cop'],\n",
       "  [[5, 7], 'neg'],\n",
       "  [[6, 7], 'nn'],\n",
       "  [[7, 0], 'root'],\n",
       "  [[8, 7], 'punct']],\n",
       " 'tokens': ['No', ',', 'it', 'was', \"n't\", 'Black', 'Monday', '.']}"
      ]
     },
     "execution_count": 7,
     "metadata": {},
     "output_type": "execute_result"
    }
   ],
   "source": [
    "data[list(data.keys())[0]]"
   ]
  },
  {
   "cell_type": "code",
   "execution_count": 10,
   "metadata": {},
   "outputs": [
    {
     "name": "stdout",
     "output_type": "stream",
     "text": [
      "{'sentence': \"No , it was n't Black Monday .\", 'dependencies': [[[1, 7], 'discourse'], [[2, 7], 'punct'], [[3, 7], 'nsubj'], [[4, 7], 'cop'], [[5, 7], 'neg'], [[6, 7], 'nn'], [[7, 0], 'root'], [[8, 7], 'punct']], 'tokens': ['No', ',', 'it', 'was', \"n't\", 'Black', 'Monday', '.']}\n",
      "{'sentence': \"No , it was n't Black Monday .\", 'dependencies': [[[1, 7], 'discourse'], [[2, 7], 'punct'], [[3, 7], 'nsubj'], [[4, 7], 'cop'], [[5, 7], 'neg'], [[6, 7], 'nn'], [[7, 0], 'root'], [[8, 7], 'punct']], 'tokens': ['No', ',', 'it', 'was', \"n't\", 'Black', 'Monday', '.']}\n"
     ]
    }
   ],
   "source": [
    "attention={}\n",
    "for key, datum in data.items():\n",
    "    sent = datum['sentence']\n",
    "    tokens = tokenizer.tokenize(sent)\n",
    "    tokens_a_delim = ['[CLS]'] + tokens + ['[SEP]']\n",
    "    token_ids =  tokenizer.convert_tokens_to_ids(tokens_a_delim)\n",
    "    tokens_tensor = torch.tensor([token_ids])\n",
    "    token_type_tensor = torch.LongTensor([[0] * len(tokens_a_delim)])\n",
    "    _, _, attn_data_list =  model(tokens_tensor, token_type_ids=token_type_tensor)\n",
    "    attn_tensor = torch.stack([attn_data['attn_probs'] for attn_data in attn_data_list])\n",
    "    attention[key] = attn_tensor.data.numpy()"
   ]
  },
  {
   "cell_type": "code",
   "execution_count": 12,
   "metadata": {},
   "outputs": [
    {
     "data": {
      "text/plain": [
       "2416"
      ]
     },
     "execution_count": 12,
     "metadata": {},
     "output_type": "execute_result"
    }
   ],
   "source": [
    "L=len(data)\n",
    "print(\"writing weights to the file!!\")\n",
    "with h5py.File('/misc/vlgscratch4/BowmanGroup/datasets/ptb_trees/bert_large_wsj_test.hdf5','w') as f:\n",
    "    for idx in attention:\n",
    "        f.create_dataset(idx,data=attention[idx],dtype='float64')\n",
    "f.close()\n",
    "print(\"done\") "
   ]
  }
 ],
 "metadata": {
  "kernelspec": {
   "display_name": "Python 3",
   "language": "python",
   "name": "python3"
  },
  "language_info": {
   "codemirror_mode": {
    "name": "ipython",
    "version": 3
   },
   "file_extension": ".py",
   "mimetype": "text/x-python",
   "name": "python",
   "nbconvert_exporter": "python",
   "pygments_lexer": "ipython3",
   "version": "3.6.5"
  }
 },
 "nbformat": 4,
 "nbformat_minor": 2
}
