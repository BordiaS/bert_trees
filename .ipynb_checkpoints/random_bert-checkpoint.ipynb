{
 "cells": [
  {
   "cell_type": "code",
   "execution_count": null,
   "metadata": {},
   "outputs": [],
   "source": [
    "from bertviz import attention, visualization\n",
    "from bertviz.pytorch_pretrained_bert import BertModel, BertTokenizer\n",
    "import numpy as np\n",
    "import h5py\n",
    "import torch\n",
    "import random\n",
    "\n",
    "bert_version = 'bert-large-uncased'\n",
    "model = BertModel.from_pretrained(bert_version)\n",
    "tokenizer = BertTokenizer.from_pretrained(bert_version)\n",
    "\n",
    "for name, param in model.named_parameters():\n",
    "    if param.requires_grad:\n",
    "        param.data.uniform_(-0.1, 0.1)\n",
    "\n"
   ]
  },
  {
   "cell_type": "code",
   "execution_count": null,
   "metadata": {},
   "outputs": [],
   "source": [
    "filename = '/misc/vlgscratch4/BowmanGroup/datasets/bert_trees/en_pud-ud-test.conllu'\n",
    "with open(filename, 'r') as f:\n",
    "    data = f.readlines()\n",
    "i=0\n",
    "sentences={}\n",
    "\n",
    "for i in range(1,len(data)):\n",
    "    line=data[i]\n",
    "    if line[0]=='#':\n",
    "        if line[2:9] == \"sent_id\":\n",
    "            sentence_id = line[12:]\n",
    "            \n",
    "        if line[2:6] == \"text\":\n",
    "            sentence =line[9:]\n",
    "            sentences[sentence_id[:-1]] =sentence[:-1]\n",
    "        \n"
   ]
  },
  {
   "cell_type": "code",
   "execution_count": null,
   "metadata": {},
   "outputs": [],
   "source": [
    "#print(sentences)\n",
    "attention={}\n",
    "for sent in sentences :\n",
    "    tokens_sent = sentences[sent]\n",
    "    tokens = tokenizer.tokenize(tokens_sent)\n",
    "    #print(tokens_sent, tokens)\n",
    "    tokens_a_delim = ['[CLS]'] + tokens + ['[SEP]']\n",
    "    token_ids =  tokenizer.convert_tokens_to_ids(tokens_a_delim)\n",
    "    #print(token_ids, len(token_ids))\n",
    "    tokens_tensor = torch.tensor([token_ids])\n",
    "    token_type_tensor = torch.LongTensor([[0] * len(tokens_a_delim)])\n",
    "    #print(token_type_tensor)\n",
    "    _, _, attn_data_list =  model(tokens_tensor, token_type_ids=token_type_tensor)\n",
    "    attn_tensor = torch.stack([attn_data['attn_probs'] for attn_data in attn_data_list])\n",
    "    attention[sent] = attn_tensor.data.numpy()\n",
    "\n"
   ]
  },
  {
   "cell_type": "code",
   "execution_count": null,
   "metadata": {},
   "outputs": [],
   "source": [
    "L=len(sentences)\n",
    "print(\"writing weights to the file!!\")\n",
    "\n",
    "with h5py.File('/misc/vlgscratch4/BowmanGroup/datasets/bert_trees/random_bert_large_uncased.hdf5','w') as f:\n",
    "    for idx in attention:\n",
    "        f.create_dataset(idx,data=attention[idx],dtype='float64')\n",
    "f.close()\n",
    "print(\"done\") "
   ]
  }
 ],
 "metadata": {
  "kernelspec": {
   "display_name": "Python 3",
   "language": "python",
   "name": "python3"
  },
  "language_info": {
   "codemirror_mode": {
    "name": "ipython",
    "version": 3
   },
   "file_extension": ".py",
   "mimetype": "text/x-python",
   "name": "python",
   "nbconvert_exporter": "python",
   "pygments_lexer": "ipython3",
   "version": "3.6.5"
  }
 },
 "nbformat": 4,
 "nbformat_minor": 2
}
